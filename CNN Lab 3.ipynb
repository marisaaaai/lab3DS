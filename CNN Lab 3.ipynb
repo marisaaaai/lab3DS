{
 "cells": [
  {
   "cell_type": "markdown",
   "id": "7d706b59",
   "metadata": {},
   "source": [
    "# Laboratorio 3. Reconocimiento de caracteres manuscritos por CNN"
   ]
  },
  {
   "cell_type": "code",
   "execution_count": 1,
   "id": "4b01fb78",
   "metadata": {},
   "outputs": [
    {
     "name": "stderr",
     "output_type": "stream",
     "text": [
      "2021-08-18 20:22:42.538460: W tensorflow/stream_executor/platform/default/dso_loader.cc:64] Could not load dynamic library 'libcudart.so.11.0'; dlerror: libcudart.so.11.0: cannot open shared object file: No such file or directory\n",
      "2021-08-18 20:22:42.538834: I tensorflow/stream_executor/cuda/cudart_stub.cc:29] Ignore above cudart dlerror if you do not have a GPU set up on your machine.\n"
     ]
    }
   ],
   "source": [
    "#importar paquetes incluyendo tensorflow\n",
    "from tensorflow.keras.models import Sequential\n",
    "from tensorflow.keras.layers import Dense, Conv2D, Flatten, MaxPool2D\n",
    "from tensorflow.keras.datasets import mnist\n",
    "from tensorflow.keras.utils import to_categorical\n",
    "from sklearn.model_selection import train_test_split\n",
    "from numpy.random import RandomState\n",
    "import numpy as np\n",
    "import pandas as pd\n",
    "import matplotlib.pyplot as plt"
   ]
  },
  {
   "cell_type": "code",
   "execution_count": 2,
   "id": "a5fda785",
   "metadata": {},
   "outputs": [],
   "source": [
    "#Importando datos train.csv, partiendo en test y train en y ademas diviediendo en \"x,y\" usando 0.7 como train y 0.3 como test.\n",
    "\n",
    "\n",
    "datos = pd.read_csv('train.csv')\n",
    "\n",
    "x = datos.iloc[:, :-1].values\n",
    "y = datos.iloc[:, 1].values\n",
    "\n",
    "x_train, x_test, y_train, y_test = train_test_split(x, y, \n",
    "test_size=0.3, random_state=0)\n",
    "\n",
    "\n",
    "\n",
    "\n",
    "\n",
    "\n",
    "\n"
   ]
  },
  {
   "cell_type": "code",
   "execution_count": 3,
   "id": "4761245b",
   "metadata": {},
   "outputs": [
    {
     "name": "stdout",
     "output_type": "stream",
     "text": [
      "(29400, 784)\n",
      "(12600, 784)\n",
      "(12600,)\n",
      "(29400,)\n"
     ]
    }
   ],
   "source": [
    "#Poder ver la figura de las imagenes del dataframe para poder transformarlo mas facilmente.\n",
    "print(x_train.shape)\n",
    "print(x_test.shape)\n",
    "print(y_test.shape)\n",
    "print(y_train.shape)"
   ]
  },
  {
   "cell_type": "code",
   "execution_count": 4,
   "id": "a2b32f54",
   "metadata": {},
   "outputs": [],
   "source": [
    "#Transformando la forma del dataframe para que sea una imagen de 28x28 pixeles. Ya con el 70 y 30 porciento como test y train\n",
    "\n",
    "x_train = x_train.reshape(29400, 28, 28, 1)\n",
    "x_test = x_test.reshape(12600, 28, 28, 1)\n",
    "\n"
   ]
  },
  {
   "cell_type": "code",
   "execution_count": 6,
   "id": "053916b4",
   "metadata": {},
   "outputs": [
    {
     "data": {
      "text/plain": [
       "<matplotlib.image.AxesImage at 0x7f279c894748>"
      ]
     },
     "execution_count": 6,
     "metadata": {},
     "output_type": "execute_result"
    },
    {
     "data": {
      "image/png": "[encoded data removed]",
      "text/plain": [
       "<Figure size 432x288 with 1 Axes>"
      ]
     },
     "metadata": {
      "needs_background": "light"
     },
     "output_type": "display_data"
    }
   ],
   "source": [
    "#Mostrando Algunas imagenes del train con plot segun su intensidad\n",
    "plt.imshow(x_train[17])"
   ]
  },
  {
   "cell_type": "code",
   "execution_count": 7,
   "id": "19a6ffc4",
   "metadata": {},
   "outputs": [
    {
     "data": {
      "text/plain": [
       "<matplotlib.image.AxesImage at 0x7f279cdb8e10>"
      ]
     },
     "execution_count": 7,
     "metadata": {},
     "output_type": "execute_result"
    },
    {
     "data": {
      "image/png": "[encoded data removed]",
      "text/plain": [
       "<Figure size 432x288 with 1 Axes>"
      ]
     },
     "metadata": {
      "needs_background": "light"
     },
     "output_type": "display_data"
    }
   ],
   "source": [
    "#Mostrando Algunas imagenes del train con plot segun su intensidad\n",
    "plt.imshow(x_train[120])"
   ]
  },
  {
   "cell_type": "code",
   "execution_count": 8,
   "id": "0059a812",
   "metadata": {},
   "outputs": [
    {
     "name": "stdout",
     "output_type": "stream",
     "text": [
      "[1.]\n"
     ]
    }
   ],
   "source": [
    "# Funcion one_hot de pandas, pasando a categorico y se muestra nueva estructura\n",
    "\n",
    "y_train_one_hot = to_categorical(y_train)\n",
    "y_test_one_hot = to_categorical(y_test)\n",
    "\n",
    "\n",
    "print(y_train_one_hot[0])"
   ]
  },
  {
   "cell_type": "code",
   "execution_count": 55,
   "id": "a4b884f1",
   "metadata": {},
   "outputs": [],
   "source": [
    "#Haciendo el modelo de Redes neuronales convolucionales\n",
    "model = Sequential()\n",
    "\n",
    "# Agregando capas\n",
    "model.add(Conv2D(64, kernel_size=2, activation = 'relu', input_shape=(28,28,1)))\n",
    "model.add(Conv2D(32, kernel_size=2, activation='relu'))\n",
    "model.add(MaxPool2D(pool_size=(2, 2), strides=None, padding='valid', data_format=None))\n",
    "model.add(Flatten())\n",
    "model.add(Dense(30,activation='softmax'))"
   ]
  },
  {
   "cell_type": "code",
   "execution_count": 56,
   "id": "3c45711e",
   "metadata": {},
   "outputs": [],
   "source": [
    "#Compilando el modelo, utilizando el optimizador \"adam\" de keras.io\n",
    "model.compile(optimizer='rmsprop', loss='sparse_categorical_crossentropy', metrics=['accuracy'])"
   ]
  },
  {
   "cell_type": "code",
   "execution_count": 57,
   "id": "1d6b011c",
   "metadata": {},
   "outputs": [
    {
     "name": "stdout",
     "output_type": "stream",
     "text": [
      "919/919 [==============================] - 51s 55ms/step - loss: 0.0613 - accuracy: 0.9989 - val_loss: 9.4611e-12 - val_accuracy: 1.0000\n"
     ]
    }
   ],
   "source": [
    "#Entrenamiento de modelo y accuracy\n",
    "hist = model.fit(x_train,y_train_one_hot, validation_data=(x_test,y_test_one_hot), epochs=1)"
   ]
  },
  {
   "cell_type": "markdown",
   "id": "060c9b1c",
   "metadata": {},
   "source": [
    "### Referencias: \n",
    " * Keras.io.(2021). Optimizers. Extraído de: https://keras.io/api/optimizers/\n",
    " * Referencia de modelo convolucional: https://github.com/chandan450/MNIST-Handwritten-Digit-Classification\n",
    " * Tensorflow.org. (2021). Mnist dataset. Extraído de: http://localhost:8888/notebooks/CNN%20Lab%203.ipynb"
   ]
  }
 ],
 "metadata": {
  "kernelspec": {
   "display_name": "Python 3 (ipykernel)",
   "language": "python",
   "name": "python3"
  },
  "language_info": {
   "codemirror_mode": {
    "name": "ipython",
    "version": 3
   },
   "file_extension": ".py",
   "mimetype": "text/x-python",
   "name": "python",
   "nbconvert_exporter": "python",
   "pygments_lexer": "ipython3",
   "version": "3.7.3"
  }
 },
 "nbformat": 4,
 "nbformat_minor": 5
}
